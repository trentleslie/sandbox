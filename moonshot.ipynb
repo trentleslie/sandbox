{
 "cells": [
  {
   "cell_type": "code",
   "execution_count": 1,
   "metadata": {},
   "outputs": [],
   "source": [
    "from chemspipy import ChemSpider\n",
    "import requests"
   ]
  },
  {
   "cell_type": "code",
   "execution_count": 5,
   "metadata": {},
   "outputs": [
    {
     "data": {
      "text/plain": [
       "[{'dataSourceName': 'Wikidata',\n",
       "  'referenceId': 'Q18216',\n",
       "  'referenceUrl': 'http://www.wikidata.org/entity/Q18216',\n",
       "  'lowerValue': '0.20',\n",
       "  'highValue': '0.40',\n",
       "  'units': 'g/100g',\n",
       "  'solvent': 'water',\n",
       "  'temperature': '20',\n",
       "  'temperatureUnits': '°C',\n",
       "  'message': 'This API is for demonstration purposes only and may be change or be withdrawn without notice. It should not be used in production'},\n",
       " {'dataSourceName': 'MedChem Express',\n",
       "  'referenceId': 'HY-14654',\n",
       "  'referenceUrl': 'www.medchemexpress.com/aspirin.html',\n",
       "  'lowerValue': '100',\n",
       "  'highValue': '100',\n",
       "  'units': 'mg/mL',\n",
       "  'solvent': 'DMSO',\n",
       "  'message': 'This API is for demonstration purposes only and may be change or be withdrawn without notice. It should not be used in production'},\n",
       " {'dataSourceName': 'MedChem Express',\n",
       "  'referenceId': 'HY-14654',\n",
       "  'referenceUrl': 'www.medchemexpress.com/aspirin.html',\n",
       "  'lowerValue': '0.1',\n",
       "  'highValue': '0.1',\n",
       "  'units': 'mg/mL',\n",
       "  'solvent': 'water',\n",
       "  'message': 'This API is for demonstration purposes only and may be change or be withdrawn without notice. It should not be used in production'},\n",
       " {'dataSourceName': 'LKT Labs',\n",
       "  'referenceId': 'A0819',\n",
       "  'referenceUrl': '',\n",
       "  'lowerValue': '3.3',\n",
       "  'highValue': '3.3',\n",
       "  'units': 'mg/ml',\n",
       "  'solvent': 'water',\n",
       "  'message': 'This API is for demonstration purposes only and may be change or be withdrawn without notice. It should not be used in production'},\n",
       " {'dataSourceName': 'LKT Labs',\n",
       "  'referenceId': 'A0819',\n",
       "  'referenceUrl': '',\n",
       "  'Text': 'Soluble in ethanol',\n",
       "  'message': 'This API is for demonstration purposes only and may be change or be withdrawn without notice. It should not be used in production'},\n",
       " {'dataSourceName': 'LKT Labs',\n",
       "  'referenceId': 'A0819',\n",
       "  'referenceUrl': '',\n",
       "  'Text': 'Soluble in DMSO',\n",
       "  'message': 'This API is for demonstration purposes only and may be change or be withdrawn without notice. It should not be used in production'},\n",
       " {'dataSourceName': 'Tocris Bioscience',\n",
       "  'referenceId': '4092',\n",
       "  'referenceUrl': 'https://www.tocris.com/products/aspirin_4092',\n",
       "  'lowerValue': '100',\n",
       "  'highValue': '100',\n",
       "  'units': 'nM',\n",
       "  'solvent': 'DMSO',\n",
       "  'message': 'This API is for demonstration purposes only and may be change or be withdrawn without notice. It should not be used in production'},\n",
       " {'dataSourceName': 'Tocris Bioscience',\n",
       "  'referenceId': '4092',\n",
       "  'referenceUrl': 'https://www.tocris.com/products/aspirin_4092',\n",
       "  'lowerValue': '10',\n",
       "  'highValue': '10',\n",
       "  'units': 'nM',\n",
       "  'solvent': 'water',\n",
       "  'message': 'This API is for demonstration purposes only and may be change or be withdrawn without notice. It should not be used in production'}]"
      ]
     },
     "execution_count": 5,
     "metadata": {},
     "output_type": "execute_result"
    }
   ],
   "source": [
    "response = requests.get(\n",
    "    'https://api.rsc.org/demo/v1/2157/experimentalproperties/solubility',\n",
    "    #params={'q': 'requests+language:python'},\n",
    "    headers={'apikey': 'f8hxSb3GnYUhWidDIwOqlGDdsQTXFMbR'},\n",
    ")\n",
    "\n",
    "json_response = response.json()\n",
    "json_response\n",
    "#repository = json_response['items'][0]\n",
    "#print(f'Text matches: {repository[\"text_matches\"]}')"
   ]
  },
  {
   "cell_type": "code",
   "execution_count": 15,
   "metadata": {},
   "outputs": [],
   "source": [
    "cs = ChemSpider('f8hxSb3GnYUhWidDIwOqlGDdsQTXFMbR')\n",
    "c1 = cs.get_compound(236)  # Specify compound by ChemSpider ID\n",
    "c2 = cs.search('myrcene')  # Search using name, SMILES, InChI, InChIKey, etc."
   ]
  },
  {
   "cell_type": "code",
   "execution_count": 38,
   "metadata": {},
   "outputs": [
    {
     "name": "stdout",
     "output_type": "stream",
     "text": [
      "[28993]\n",
      "[Compound(28993)]\n",
      "[{'id': 28993, 'smiles': 'CC(=CCCC(=C)C=C)C', 'formula': 'C_{10}H_{16}', 'averageMass': 136.234, 'molecularWeight': 136.234, 'monoisotopicMass': 136.125198, 'nominalMass': 136, 'commonName': 'beta-Myrcene', 'referenceCount': 465, 'dataSourceCount': 126, 'pubMedCount': 403, 'rscCount': 249, 'mol2D': '\\n  ACD/Labs04281711142D\\n\\n 10  9  0  0  0  0  0  0  0  0  1 V2000\\n    5.7629   -1.3318    0.0000 C   0  0  0  0  0  0  0  0  0  0  0  0\\n    4.6087   -1.9936    0.0000 C   0  0  0  0  0  0  0  0  0  0  0  0\\n    3.4626   -1.3318    0.0000 C   0  0  0  0  0  0  0  0  0  0  0  0\\n    2.3084   -1.9936    0.0000 C   0  0  0  0  0  0  0  0  0  0  0  0\\n    1.1542   -1.3318    0.0000 C   0  0  0  0  0  0  0  0  0  0  0  0\\n    6.9171   -1.9936    0.0000 C   0  0  0  0  0  0  0  0  0  0  0  0\\n    5.7629    0.0000    0.0000 C   0  0  0  0  0  0  0  0  0  0  0  0\\n    0.0000   -1.9936    0.0000 C   0  0  0  0  0  0  0  0  0  0  0  0\\n    1.1542    0.0000    0.0000 C   0  0  0  0  0  0  0  0  0  0  0  0\\n    8.0713   -1.3318    0.0000 C   0  0  0  0  0  0  0  0  0  0  0  0\\n  1  2  1  0  0  0  0\\n  1  6  1  0  0  0  0\\n  1  7  2  0  0  0  0\\n  2  3  1  0  0  0  0\\n  3  4  1  0  0  0  0\\n  4  5  2  0  0  0  0\\n  5  8  1  0  0  0  0\\n  5  9  1  0  0  0  0\\n  6 10  2  0  0  0  0\\nM  END\\n', 'mol3D': '31253\\n  Marvin  12300703363D          \\n\\n 26 25  0  0  0  0            999 V2000\\n    0.1816   -0.1753   -0.0004 C   0  0  0  0  0  0  0  0  0  0  0  0\\n   -1.3526    0.0824   -0.0009 C   0  0  0  0  0  0  0  0  0  0  0  0\\n    0.7541   -1.5095    0.0053 C   0  0  0  0  0  0  0  0  0  0  0  0\\n    2.0821   -1.7727    0.0147 C   0  0  0  0  0  0  0  0  0  0  0  0\\n   -1.8416    1.4838   -0.0008 C   0  0  0  0  0  0  0  0  0  0  0  0\\n    2.5581   -3.1537    0.0056 C   0  0  0  0  0  0  0  0  0  0  0  0\\n    3.1262   -0.7424    0.0023 C   0  0  0  0  0  0  0  0  0  0  0  0\\n   -3.2093    1.6711   -0.0003 C   0  0  0  0  0  0  0  0  0  0  0  0\\n   -0.9864    2.5311   -0.0010 C   0  0  0  0  0  0  0  0  0  0  0  0\\n   -3.9237    2.8095   -0.0000 C   0  0  0  0  0  0  0  0  0  0  0  0\\n    0.5700    0.3180    0.8951 H   0  0  0  0  0  0  0  0  0  0  0  0\\n    0.5688    0.3114   -0.9001 H   0  0  0  0  0  0  0  0  0  0  0  0\\n   -1.7593   -0.4280   -0.8803 H   0  0  0  0  0  0  0  0  0  0  0  0\\n   -1.7595   -0.4281    0.8783 H   0  0  0  0  0  0  0  0  0  0  0  0\\n    0.1060   -2.2653   -0.0009 H   0  0  0  0  0  0  0  0  0  0  0  0\\n    2.6745   -3.4850   -1.0279 H   0  0  0  0  0  0  0  0  0  0  0  0\\n    1.8815   -3.8433    0.5152 H   0  0  0  0  0  0  0  0  0  0  0  0\\n    3.5266   -3.2662    0.5003 H   0  0  0  0  0  0  0  0  0  0  0  0\\n    3.7584   -0.8616   -0.8794 H   0  0  0  0  0  0  0  0  0  0  0  0\\n    3.7490   -0.8271    0.8946 H   0  0  0  0  0  0  0  0  0  0  0  0\\n    2.7802    0.2910   -0.0175 H   0  0  0  0  0  0  0  0  0  0  0  0\\n   -3.7819    0.8555   -0.0001 H   0  0  0  0  0  0  0  0  0  0  0  0\\n   -1.2749    3.4770   -0.0003 H   0  0  0  0  0  0  0  0  0  0  0  0\\n   -0.0022    2.4310   -0.0017 H   0  0  0  0  0  0  0  0  0  0  0  0\\n   -4.9158    2.7869    0.0004 H   0  0  0  0  0  0  0  0  0  0  0  0\\n   -3.5100    3.7096   -0.0002 H   0  0  0  0  0  0  0  0  0  0  0  0\\n  1  2  1  0  0  0  0\\n  1  3  1  0  0  0  0\\n  1 11  1  0  0  0  0\\n  1 12  1  0  0  0  0\\n  2  5  1  0  0  0  0\\n  2 13  1  0  0  0  0\\n  2 14  1  0  0  0  0\\n  3  4  2  0  0  0  0\\n  3 15  1  0  0  0  0\\n  4  6  1  0  0  0  0\\n  4  7  1  0  0  0  0\\n  5  8  1  0  0  0  0\\n  5  9  2  0  0  0  0\\n  6 16  1  0  0  0  0\\n  6 17  1  0  0  0  0\\n  6 18  1  0  0  0  0\\n  7 19  1  0  0  0  0\\n  7 20  1  0  0  0  0\\n  7 21  1  0  0  0  0\\n  8 10  2  0  0  0  0\\n  8 22  1  0  0  0  0\\n  9 23  1  0  0  0  0\\n  9 24  1  0  0  0  0\\n 10 25  1  0  0  0  0\\n 10 26  1  0  0  0  0\\nM  END\\n$$$$\\n'}]\n"
     ]
    }
   ],
   "source": [
    "id_list = []\n",
    "for result in cs.search('myrcene'):\n",
    "    id_list.append(result.record_id)\n",
    "print(id_list)\n",
    "\n",
    "compound_list = []\n",
    "compound_details = []\n",
    "for id in id_list:\n",
    "    compound_list.append(cs.get_compound(id))\n",
    "    compound_details.append(cs.get_details(id))\n",
    "    compound_list[-1].image\n",
    "print(compound_list)\n",
    "print(compound_details)"
   ]
  },
  {
   "cell_type": "code",
   "execution_count": 45,
   "metadata": {},
   "outputs": [
    {
     "data": {
      "image/png": "[encoded data removed]",
      "text/plain": [
       "Compound(28993)"
      ]
     },
     "execution_count": 45,
     "metadata": {},
     "output_type": "execute_result"
    }
   ],
   "source": [
    "compound_list[0]"
   ]
  },
  {
   "cell_type": "code",
   "execution_count": 46,
   "metadata": {},
   "outputs": [
    {
     "name": "stdout",
     "output_type": "stream",
     "text": [
      "id: 28993\n",
      "smiles: CC(=CCCC(=C)C=C)C\n",
      "formula: C_{10}H_{16}\n",
      "averageMass: 136.234\n",
      "molecularWeight: 136.234\n",
      "monoisotopicMass: 136.125198\n",
      "nominalMass: 136\n",
      "commonName: beta-Myrcene\n",
      "referenceCount: 465\n",
      "dataSourceCount: 126\n",
      "pubMedCount: 403\n",
      "rscCount: 249\n",
      "mol2D: \n",
      "  ACD/Labs04281711142D\n",
      "\n",
      " 10  9  0  0  0  0  0  0  0  0  1 V2000\n",
      "    5.7629   -1.3318    0.0000 C   0  0  0  0  0  0  0  0  0  0  0  0\n",
      "    4.6087   -1.9936    0.0000 C   0  0  0  0  0  0  0  0  0  0  0  0\n",
      "    3.4626   -1.3318    0.0000 C   0  0  0  0  0  0  0  0  0  0  0  0\n",
      "    2.3084   -1.9936    0.0000 C   0  0  0  0  0  0  0  0  0  0  0  0\n",
      "    1.1542   -1.3318    0.0000 C   0  0  0  0  0  0  0  0  0  0  0  0\n",
      "    6.9171   -1.9936    0.0000 C   0  0  0  0  0  0  0  0  0  0  0  0\n",
      "    5.7629    0.0000    0.0000 C   0  0  0  0  0  0  0  0  0  0  0  0\n",
      "    0.0000   -1.9936    0.0000 C   0  0  0  0  0  0  0  0  0  0  0  0\n",
      "    1.1542    0.0000    0.0000 C   0  0  0  0  0  0  0  0  0  0  0  0\n",
      "    8.0713   -1.3318    0.0000 C   0  0  0  0  0  0  0  0  0  0  0  0\n",
      "  1  2  1  0  0  0  0\n",
      "  1  6  1  0  0  0  0\n",
      "  1  7  2  0  0  0  0\n",
      "  2  3  1  0  0  0  0\n",
      "  3  4  1  0  0  0  0\n",
      "  4  5  2  0  0  0  0\n",
      "  5  8  1  0  0  0  0\n",
      "  5  9  1  0  0  0  0\n",
      "  6 10  2  0  0  0  0\n",
      "M  END\n",
      "\n",
      "mol3D: 31253\n",
      "  Marvin  12300703363D          \n",
      "\n",
      " 26 25  0  0  0  0            999 V2000\n",
      "    0.1816   -0.1753   -0.0004 C   0  0  0  0  0  0  0  0  0  0  0  0\n",
      "   -1.3526    0.0824   -0.0009 C   0  0  0  0  0  0  0  0  0  0  0  0\n",
      "    0.7541   -1.5095    0.0053 C   0  0  0  0  0  0  0  0  0  0  0  0\n",
      "    2.0821   -1.7727    0.0147 C   0  0  0  0  0  0  0  0  0  0  0  0\n",
      "   -1.8416    1.4838   -0.0008 C   0  0  0  0  0  0  0  0  0  0  0  0\n",
      "    2.5581   -3.1537    0.0056 C   0  0  0  0  0  0  0  0  0  0  0  0\n",
      "    3.1262   -0.7424    0.0023 C   0  0  0  0  0  0  0  0  0  0  0  0\n",
      "   -3.2093    1.6711   -0.0003 C   0  0  0  0  0  0  0  0  0  0  0  0\n",
      "   -0.9864    2.5311   -0.0010 C   0  0  0  0  0  0  0  0  0  0  0  0\n",
      "   -3.9237    2.8095   -0.0000 C   0  0  0  0  0  0  0  0  0  0  0  0\n",
      "    0.5700    0.3180    0.8951 H   0  0  0  0  0  0  0  0  0  0  0  0\n",
      "    0.5688    0.3114   -0.9001 H   0  0  0  0  0  0  0  0  0  0  0  0\n",
      "   -1.7593   -0.4280   -0.8803 H   0  0  0  0  0  0  0  0  0  0  0  0\n",
      "   -1.7595   -0.4281    0.8783 H   0  0  0  0  0  0  0  0  0  0  0  0\n",
      "    0.1060   -2.2653   -0.0009 H   0  0  0  0  0  0  0  0  0  0  0  0\n",
      "    2.6745   -3.4850   -1.0279 H   0  0  0  0  0  0  0  0  0  0  0  0\n",
      "    1.8815   -3.8433    0.5152 H   0  0  0  0  0  0  0  0  0  0  0  0\n",
      "    3.5266   -3.2662    0.5003 H   0  0  0  0  0  0  0  0  0  0  0  0\n",
      "    3.7584   -0.8616   -0.8794 H   0  0  0  0  0  0  0  0  0  0  0  0\n",
      "    3.7490   -0.8271    0.8946 H   0  0  0  0  0  0  0  0  0  0  0  0\n",
      "    2.7802    0.2910   -0.0175 H   0  0  0  0  0  0  0  0  0  0  0  0\n",
      "   -3.7819    0.8555   -0.0001 H   0  0  0  0  0  0  0  0  0  0  0  0\n",
      "   -1.2749    3.4770   -0.0003 H   0  0  0  0  0  0  0  0  0  0  0  0\n",
      "   -0.0022    2.4310   -0.0017 H   0  0  0  0  0  0  0  0  0  0  0  0\n",
      "   -4.9158    2.7869    0.0004 H   0  0  0  0  0  0  0  0  0  0  0  0\n",
      "   -3.5100    3.7096   -0.0002 H   0  0  0  0  0  0  0  0  0  0  0  0\n",
      "  1  2  1  0  0  0  0\n",
      "  1  3  1  0  0  0  0\n",
      "  1 11  1  0  0  0  0\n",
      "  1 12  1  0  0  0  0\n",
      "  2  5  1  0  0  0  0\n",
      "  2 13  1  0  0  0  0\n",
      "  2 14  1  0  0  0  0\n",
      "  3  4  2  0  0  0  0\n",
      "  3 15  1  0  0  0  0\n",
      "  4  6  1  0  0  0  0\n",
      "  4  7  1  0  0  0  0\n",
      "  5  8  1  0  0  0  0\n",
      "  5  9  2  0  0  0  0\n",
      "  6 16  1  0  0  0  0\n",
      "  6 17  1  0  0  0  0\n",
      "  6 18  1  0  0  0  0\n",
      "  7 19  1  0  0  0  0\n",
      "  7 20  1  0  0  0  0\n",
      "  7 21  1  0  0  0  0\n",
      "  8 10  2  0  0  0  0\n",
      "  8 22  1  0  0  0  0\n",
      "  9 23  1  0  0  0  0\n",
      "  9 24  1  0  0  0  0\n",
      " 10 25  1  0  0  0  0\n",
      " 10 26  1  0  0  0  0\n",
      "M  END\n",
      "$$$$\n",
      "\n"
     ]
    }
   ],
   "source": [
    "for compound in compound_details:\n",
    "    for key in compound.keys():\n",
    "        print(f\"{key}: {compound[key]}\")"
   ]
  },
  {
   "cell_type": "code",
   "execution_count": 49,
   "metadata": {},
   "outputs": [
    {
     "name": "stdout",
     "output_type": "stream",
     "text": [
      "[4444850]\n",
      "[Compound(4444850)]\n",
      "[{'id': 4444850, 'smiles': 'CC(=CCC/C(=C/CCC(=C)C=C)/C)C', 'formula': 'C_{15}H_{24}', 'averageMass': 204.3511, 'molecularWeight': 204.3511, 'monoisotopicMass': 204.187805, 'nominalMass': 204, 'commonName': '(E)-beta-Farnesene', 'referenceCount': 124, 'dataSourceCount': 70, 'pubMedCount': 157, 'rscCount': 8, 'mol2D': '\\n  ACD/Labs04281712162D\\n\\n 15 14  0  0  0  0  0  0  0  0  1 V2000\\n    5.7534   -1.3277    0.0000 C   0  0  0  0  0  0  0  0  0  0  0  0\\n    6.8914   -1.9979    0.0000 C   0  0  0  0  0  0  0  0  0  0  0  0\\n    4.6027   -1.9979    0.0000 C   0  0  0  0  0  0  0  0  0  0  0  0\\n    8.0421   -1.3277    0.0000 C   0  0  0  0  0  0  0  0  0  0  0  0\\n   10.3435   -1.3277    0.0000 C   0  0  0  0  0  0  0  0  0  0  0  0\\n    9.1928   -1.9979    0.0000 C   0  0  0  0  0  0  0  0  0  0  0  0\\n    3.4520   -1.3277    0.0000 C   0  0  0  0  0  0  0  0  0  0  0  0\\n    2.3014   -1.9979    0.0000 C   0  0  0  0  0  0  0  0  0  0  0  0\\n    1.1507   -1.3277    0.0000 C   0  0  0  0  0  0  0  0  0  0  0  0\\n    5.7534    0.0000    0.0000 C   0  0  0  0  0  0  0  0  0  0  0  0\\n   11.4942   -1.9979    0.0000 C   0  0  0  0  0  0  0  0  0  0  0  0\\n   10.3435    0.0000    0.0000 C   0  0  0  0  0  0  0  0  0  0  0  0\\n    0.0000   -1.9979    0.0000 C   0  0  0  0  0  0  0  0  0  0  0  0\\n    1.1507    0.0000    0.0000 C   0  0  0  0  0  0  0  0  0  0  0  0\\n   12.6448   -1.3277    0.0000 C   0  0  0  0  0  0  0  0  0  0  0  0\\n  1  2  2  0  0  0  0\\n  1  3  1  0  0  0  0\\n  1 10  1  0  0  0  0\\n  2  4  1  0  0  0  0\\n  3  7  1  0  0  0  0\\n  4  6  1  0  0  0  0\\n  5  6  1  0  0  0  0\\n  5 11  1  0  0  0  0\\n  5 12  2  0  0  0  0\\n  7  8  1  0  0  0  0\\n  8  9  2  0  0  0  0\\n  9 13  1  0  0  0  0\\n  9 14  1  0  0  0  0\\n 11 15  2  0  0  0  0\\nM  END\\n', 'mol3D': '5281517\\n  Marvin  12300716493D          \\n\\n 39 38  0  0  0  0            999 V2000\\n    1.4279   -1.1227   -1.3592 C   0  0  0  0  0  0  0  0  0  0  0  0\\n    0.7426    0.1804   -1.4163 C   0  0  0  0  0  0  0  0  0  0  0  0\\n    1.6677   -1.6355    0.0901 C   0  0  0  0  0  0  0  0  0  0  0  0\\n   -1.5113    1.3614   -1.5589 C   0  0  0  0  0  0  0  0  0  0  0  0\\n   -0.6112    0.2215   -1.4298 C   0  0  0  0  0  0  0  0  0  0  0  0\\n   -2.3967    1.7051   -0.3217 C   0  0  0  0  0  0  0  0  0  0  0  0\\n    2.3861   -2.8972    0.2338 C   0  0  0  0  0  0  0  0  0  0  0  0\\n    1.6217    1.3537   -1.4374 C   0  0  0  0  0  0  0  0  0  0  0  0\\n    2.7335   -3.5073    1.3916 C   0  0  0  0  0  0  0  0  0  0  0  0\\n   -3.1780    2.9634   -0.2589 C   0  0  0  0  0  0  0  0  0  0  0  0\\n    2.4079   -2.9355    2.6964 C   0  0  0  0  0  0  0  0  0  0  0  0\\n    3.4584   -4.7759    1.3351 C   0  0  0  0  0  0  0  0  0  0  0  0\\n   -3.9539    3.1656    0.8680 C   0  0  0  0  0  0  0  0  0  0  0  0\\n   -3.1287    3.8724   -1.2553 C   0  0  0  0  0  0  0  0  0  0  0  0\\n   -4.7416    4.2011    1.2016 C   0  0  0  0  0  0  0  0  0  0  0  0\\n    0.8710   -1.8798   -1.9216 H   0  0  0  0  0  0  0  0  0  0  0  0\\n    2.3916   -1.0731   -1.8781 H   0  0  0  0  0  0  0  0  0  0  0  0\\n    0.6928   -1.7407    0.5732 H   0  0  0  0  0  0  0  0  0  0  0  0\\n    2.2303   -0.8689    0.6286 H   0  0  0  0  0  0  0  0  0  0  0  0\\n   -2.1767    1.1569   -2.4027 H   0  0  0  0  0  0  0  0  0  0  0  0\\n   -0.9559    2.2459   -1.8510 H   0  0  0  0  0  0  0  0  0  0  0  0\\n   -1.0981   -0.6456   -1.3664 H   0  0  0  0  0  0  0  0  0  0  0  0\\n   -1.7375    1.6873    0.5525 H   0  0  0  0  0  0  0  0  0  0  0  0\\n   -3.0946    0.8680   -0.2055 H   0  0  0  0  0  0  0  0  0  0  0  0\\n    2.6403   -3.3453   -0.6186 H   0  0  0  0  0  0  0  0  0  0  0  0\\n    2.2072    1.3660   -2.3588 H   0  0  0  0  0  0  0  0  0  0  0  0\\n    2.3143    1.3202   -0.5948 H   0  0  0  0  0  0  0  0  0  0  0  0\\n    1.1428    2.3265   -1.3584 H   0  0  0  0  0  0  0  0  0  0  0  0\\n    1.3271   -2.8320    2.8068 H   0  0  0  0  0  0  0  0  0  0  0  0\\n    2.8738   -1.9550    2.8094 H   0  0  0  0  0  0  0  0  0  0  0  0\\n    2.7466   -3.5335    3.5450 H   0  0  0  0  0  0  0  0  0  0  0  0\\n    4.4082   -4.6470    0.8118 H   0  0  0  0  0  0  0  0  0  0  0  0\\n    2.8666   -5.5280    0.8090 H   0  0  0  0  0  0  0  0  0  0  0  0\\n    3.6997   -5.2008    2.3119 H   0  0  0  0  0  0  0  0  0  0  0  0\\n   -3.9511    2.4470    1.5590 H   0  0  0  0  0  0  0  0  0  0  0  0\\n   -3.6226    4.7299   -1.2383 H   0  0  0  0  0  0  0  0  0  0  0  0\\n   -2.5944    3.7500   -2.0776 H   0  0  0  0  0  0  0  0  0  0  0  0\\n   -4.8588    5.0004    0.6285 H   0  0  0  0  0  0  0  0  0  0  0  0\\n   -5.2472    4.2012    2.0566 H   0  0  0  0  0  0  0  0  0  0  0  0\\n  1  2  1  0  0  0  0\\n  1  3  1  0  0  0  0\\n  1 16  1  0  0  0  0\\n  1 17  1  0  0  0  0\\n  2  5  2  0  0  0  0\\n  2  8  1  0  0  0  0\\n  3  7  1  0  0  0  0\\n  3 18  1  0  0  0  0\\n  3 19  1  0  0  0  0\\n  4  5  1  0  0  0  0\\n  4  6  1  0  0  0  0\\n  4 20  1  0  0  0  0\\n  4 21  1  0  0  0  0\\n  5 22  1  0  0  0  0\\n  6 10  1  0  0  0  0\\n  6 23  1  0  0  0  0\\n  6 24  1  0  0  0  0\\n  7  9  2  0  0  0  0\\n  7 25  1  0  0  0  0\\n  8 26  1  0  0  0  0\\n  8 27  1  0  0  0  0\\n  8 28  1  0  0  0  0\\n  9 11  1  0  0  0  0\\n  9 12  1  0  0  0  0\\n 10 13  1  0  0  0  0\\n 10 14  2  0  0  0  0\\n 11 29  1  0  0  0  0\\n 11 30  1  0  0  0  0\\n 11 31  1  0  0  0  0\\n 12 32  1  0  0  0  0\\n 12 33  1  0  0  0  0\\n 12 34  1  0  0  0  0\\n 13 15  2  0  0  0  0\\n 13 35  1  0  0  0  0\\n 14 36  1  0  0  0  0\\n 14 37  1  0  0  0  0\\n 15 38  1  0  0  0  0\\n 15 39  1  0  0  0  0\\nM  END\\n$$$$\\n'}]\n"
     ]
    }
   ],
   "source": [
    "id_list = []\n",
    "for result in cs.search('farnesene'):\n",
    "    id_list.append(result.record_id)\n",
    "print(id_list)\n",
    "\n",
    "compound_list = []\n",
    "compound_details = []\n",
    "for id in id_list:\n",
    "    compound_list.append(cs.get_compound(id))\n",
    "    compound_details.append(cs.get_details(id))\n",
    "    compound_list[-1].image\n",
    "print(compound_list)\n",
    "print(compound_details)"
   ]
  },
  {
   "cell_type": "code",
   "execution_count": 50,
   "metadata": {},
   "outputs": [
    {
     "data": {
      "image/png": "[encoded data removed]",
      "text/plain": [
       "Compound(4444850)"
      ]
     },
     "execution_count": 50,
     "metadata": {},
     "output_type": "execute_result"
    }
   ],
   "source": [
    "compound_list[0]"
   ]
  },
  {
   "cell_type": "code",
   "execution_count": 51,
   "metadata": {},
   "outputs": [
    {
     "name": "stdout",
     "output_type": "stream",
     "text": [
      "id: 4444850\n",
      "smiles: CC(=CCC/C(=C/CCC(=C)C=C)/C)C\n",
      "formula: C_{15}H_{24}\n",
      "averageMass: 204.3511\n",
      "molecularWeight: 204.3511\n",
      "monoisotopicMass: 204.187805\n",
      "nominalMass: 204\n",
      "commonName: (E)-beta-Farnesene\n",
      "referenceCount: 124\n",
      "dataSourceCount: 70\n",
      "pubMedCount: 157\n",
      "rscCount: 8\n",
      "mol2D: \n",
      "  ACD/Labs04281712162D\n",
      "\n",
      " 15 14  0  0  0  0  0  0  0  0  1 V2000\n",
      "    5.7534   -1.3277    0.0000 C   0  0  0  0  0  0  0  0  0  0  0  0\n",
      "    6.8914   -1.9979    0.0000 C   0  0  0  0  0  0  0  0  0  0  0  0\n",
      "    4.6027   -1.9979    0.0000 C   0  0  0  0  0  0  0  0  0  0  0  0\n",
      "    8.0421   -1.3277    0.0000 C   0  0  0  0  0  0  0  0  0  0  0  0\n",
      "   10.3435   -1.3277    0.0000 C   0  0  0  0  0  0  0  0  0  0  0  0\n",
      "    9.1928   -1.9979    0.0000 C   0  0  0  0  0  0  0  0  0  0  0  0\n",
      "    3.4520   -1.3277    0.0000 C   0  0  0  0  0  0  0  0  0  0  0  0\n",
      "    2.3014   -1.9979    0.0000 C   0  0  0  0  0  0  0  0  0  0  0  0\n",
      "    1.1507   -1.3277    0.0000 C   0  0  0  0  0  0  0  0  0  0  0  0\n",
      "    5.7534    0.0000    0.0000 C   0  0  0  0  0  0  0  0  0  0  0  0\n",
      "   11.4942   -1.9979    0.0000 C   0  0  0  0  0  0  0  0  0  0  0  0\n",
      "   10.3435    0.0000    0.0000 C   0  0  0  0  0  0  0  0  0  0  0  0\n",
      "    0.0000   -1.9979    0.0000 C   0  0  0  0  0  0  0  0  0  0  0  0\n",
      "    1.1507    0.0000    0.0000 C   0  0  0  0  0  0  0  0  0  0  0  0\n",
      "   12.6448   -1.3277    0.0000 C   0  0  0  0  0  0  0  0  0  0  0  0\n",
      "  1  2  2  0  0  0  0\n",
      "  1  3  1  0  0  0  0\n",
      "  1 10  1  0  0  0  0\n",
      "  2  4  1  0  0  0  0\n",
      "  3  7  1  0  0  0  0\n",
      "  4  6  1  0  0  0  0\n",
      "  5  6  1  0  0  0  0\n",
      "  5 11  1  0  0  0  0\n",
      "  5 12  2  0  0  0  0\n",
      "  7  8  1  0  0  0  0\n",
      "  8  9  2  0  0  0  0\n",
      "  9 13  1  0  0  0  0\n",
      "  9 14  1  0  0  0  0\n",
      " 11 15  2  0  0  0  0\n",
      "M  END\n",
      "\n",
      "mol3D: 5281517\n",
      "  Marvin  12300716493D          \n",
      "\n",
      " 39 38  0  0  0  0            999 V2000\n",
      "    1.4279   -1.1227   -1.3592 C   0  0  0  0  0  0  0  0  0  0  0  0\n",
      "    0.7426    0.1804   -1.4163 C   0  0  0  0  0  0  0  0  0  0  0  0\n",
      "    1.6677   -1.6355    0.0901 C   0  0  0  0  0  0  0  0  0  0  0  0\n",
      "   -1.5113    1.3614   -1.5589 C   0  0  0  0  0  0  0  0  0  0  0  0\n",
      "   -0.6112    0.2215   -1.4298 C   0  0  0  0  0  0  0  0  0  0  0  0\n",
      "   -2.3967    1.7051   -0.3217 C   0  0  0  0  0  0  0  0  0  0  0  0\n",
      "    2.3861   -2.8972    0.2338 C   0  0  0  0  0  0  0  0  0  0  0  0\n",
      "    1.6217    1.3537   -1.4374 C   0  0  0  0  0  0  0  0  0  0  0  0\n",
      "    2.7335   -3.5073    1.3916 C   0  0  0  0  0  0  0  0  0  0  0  0\n",
      "   -3.1780    2.9634   -0.2589 C   0  0  0  0  0  0  0  0  0  0  0  0\n",
      "    2.4079   -2.9355    2.6964 C   0  0  0  0  0  0  0  0  0  0  0  0\n",
      "    3.4584   -4.7759    1.3351 C   0  0  0  0  0  0  0  0  0  0  0  0\n",
      "   -3.9539    3.1656    0.8680 C   0  0  0  0  0  0  0  0  0  0  0  0\n",
      "   -3.1287    3.8724   -1.2553 C   0  0  0  0  0  0  0  0  0  0  0  0\n",
      "   -4.7416    4.2011    1.2016 C   0  0  0  0  0  0  0  0  0  0  0  0\n",
      "    0.8710   -1.8798   -1.9216 H   0  0  0  0  0  0  0  0  0  0  0  0\n",
      "    2.3916   -1.0731   -1.8781 H   0  0  0  0  0  0  0  0  0  0  0  0\n",
      "    0.6928   -1.7407    0.5732 H   0  0  0  0  0  0  0  0  0  0  0  0\n",
      "    2.2303   -0.8689    0.6286 H   0  0  0  0  0  0  0  0  0  0  0  0\n",
      "   -2.1767    1.1569   -2.4027 H   0  0  0  0  0  0  0  0  0  0  0  0\n",
      "   -0.9559    2.2459   -1.8510 H   0  0  0  0  0  0  0  0  0  0  0  0\n",
      "   -1.0981   -0.6456   -1.3664 H   0  0  0  0  0  0  0  0  0  0  0  0\n",
      "   -1.7375    1.6873    0.5525 H   0  0  0  0  0  0  0  0  0  0  0  0\n",
      "   -3.0946    0.8680   -0.2055 H   0  0  0  0  0  0  0  0  0  0  0  0\n",
      "    2.6403   -3.3453   -0.6186 H   0  0  0  0  0  0  0  0  0  0  0  0\n",
      "    2.2072    1.3660   -2.3588 H   0  0  0  0  0  0  0  0  0  0  0  0\n",
      "    2.3143    1.3202   -0.5948 H   0  0  0  0  0  0  0  0  0  0  0  0\n",
      "    1.1428    2.3265   -1.3584 H   0  0  0  0  0  0  0  0  0  0  0  0\n",
      "    1.3271   -2.8320    2.8068 H   0  0  0  0  0  0  0  0  0  0  0  0\n",
      "    2.8738   -1.9550    2.8094 H   0  0  0  0  0  0  0  0  0  0  0  0\n",
      "    2.7466   -3.5335    3.5450 H   0  0  0  0  0  0  0  0  0  0  0  0\n",
      "    4.4082   -4.6470    0.8118 H   0  0  0  0  0  0  0  0  0  0  0  0\n",
      "    2.8666   -5.5280    0.8090 H   0  0  0  0  0  0  0  0  0  0  0  0\n",
      "    3.6997   -5.2008    2.3119 H   0  0  0  0  0  0  0  0  0  0  0  0\n",
      "   -3.9511    2.4470    1.5590 H   0  0  0  0  0  0  0  0  0  0  0  0\n",
      "   -3.6226    4.7299   -1.2383 H   0  0  0  0  0  0  0  0  0  0  0  0\n",
      "   -2.5944    3.7500   -2.0776 H   0  0  0  0  0  0  0  0  0  0  0  0\n",
      "   -4.8588    5.0004    0.6285 H   0  0  0  0  0  0  0  0  0  0  0  0\n",
      "   -5.2472    4.2012    2.0566 H   0  0  0  0  0  0  0  0  0  0  0  0\n",
      "  1  2  1  0  0  0  0\n",
      "  1  3  1  0  0  0  0\n",
      "  1 16  1  0  0  0  0\n",
      "  1 17  1  0  0  0  0\n",
      "  2  5  2  0  0  0  0\n",
      "  2  8  1  0  0  0  0\n",
      "  3  7  1  0  0  0  0\n",
      "  3 18  1  0  0  0  0\n",
      "  3 19  1  0  0  0  0\n",
      "  4  5  1  0  0  0  0\n",
      "  4  6  1  0  0  0  0\n",
      "  4 20  1  0  0  0  0\n",
      "  4 21  1  0  0  0  0\n",
      "  5 22  1  0  0  0  0\n",
      "  6 10  1  0  0  0  0\n",
      "  6 23  1  0  0  0  0\n",
      "  6 24  1  0  0  0  0\n",
      "  7  9  2  0  0  0  0\n",
      "  7 25  1  0  0  0  0\n",
      "  8 26  1  0  0  0  0\n",
      "  8 27  1  0  0  0  0\n",
      "  8 28  1  0  0  0  0\n",
      "  9 11  1  0  0  0  0\n",
      "  9 12  1  0  0  0  0\n",
      " 10 13  1  0  0  0  0\n",
      " 10 14  2  0  0  0  0\n",
      " 11 29  1  0  0  0  0\n",
      " 11 30  1  0  0  0  0\n",
      " 11 31  1  0  0  0  0\n",
      " 12 32  1  0  0  0  0\n",
      " 12 33  1  0  0  0  0\n",
      " 12 34  1  0  0  0  0\n",
      " 13 15  2  0  0  0  0\n",
      " 13 35  1  0  0  0  0\n",
      " 14 36  1  0  0  0  0\n",
      " 14 37  1  0  0  0  0\n",
      " 15 38  1  0  0  0  0\n",
      " 15 39  1  0  0  0  0\n",
      "M  END\n",
      "$$$$\n",
      "\n"
     ]
    }
   ],
   "source": [
    "for compound in compound_details:\n",
    "    for key in compound.keys():\n",
    "        print(f\"{key}: {compound[key]}\")"
   ]
  },
  {
   "cell_type": "code",
   "execution_count": null,
   "metadata": {},
   "outputs": [],
   "source": []
  }
 ],
 "metadata": {
  "interpreter": {
   "hash": "c4c1afcaa0824698e49fb009c9da9eaf010fa52d2eadd2a196450101a9336fb0"
  },
  "kernelspec": {
   "display_name": "Python 3.9.7 64-bit ('beta_lactamase': conda)",
   "name": "python3"
  },
  "language_info": {
   "codemirror_mode": {
    "name": "ipython",
    "version": 3
   },
   "file_extension": ".py",
   "mimetype": "text/x-python",
   "name": "python",
   "nbconvert_exporter": "python",
   "pygments_lexer": "ipython3",
   "version": "3.9.7"
  }
 },
 "nbformat": 4,
 "nbformat_minor": 2
}
