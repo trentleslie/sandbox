{
 "cells": [
  {
   "cell_type": "code",
   "execution_count": 1,
   "metadata": {},
   "outputs": [
    {
     "name": "stdout",
     "output_type": "stream",
     "text": [
      "point of view, negative, composite, dog, natural light, 1900, Wired\n"
     ]
    }
   ],
   "source": [
    "import random\n",
    "\n",
    "# 1. Framing options\n",
    "framing_options = ['close-up', 'medium shot', 'long shot', 'extreme close-up', 'high angle', 'low angle', 'dutch angle', 'overhead shot', 'point of view', 'rule of thirds']\n",
    "\n",
    "# 2. Film type options\n",
    "film_type_options = ['black & white', 'color', 'sepia', 'infrared', 'cyanotype', 'tinted', 'cross-processed', 'negative', 'HDR', 'instant film']\n",
    "\n",
    "# 3. Studio photographic context\n",
    "studio_context_options = ['studio portrait', 'fashion shoot', 'product photography', 'food photography', 'macro photography', 'still life', 'architecture', 'fine art', 'composite', 'abstract']\n",
    "\n",
    "# 4. Subject options\n",
    "subject_options = ['cat', 'dog', 'elephant', 'lion', 'tiger', 'giraffe', 'zebra', 'deer', 'wolf', 'penguin']  # Add more subjects up to 100\n",
    "\n",
    "# 5. Lighting prompt options\n",
    "lighting_prompt_options = ['dramatic backlighting', 'soft front lighting', 'hard side lighting', 'top lighting', 'silhouette', 'rim light', 'natural light', 'mixed lighting', 'reflected light', 'diffused light']\n",
    "\n",
    "# 6. Year options\n",
    "year_options = [0, 100, 500, 1000, 1250, 1500, 1750, 1850, 1900, 1950, 2000, 2050, 2250, 2500, 3000, 10000]\n",
    "\n",
    "# 7. Usage content options\n",
    "usage_content_options = ['Life Magazine', 'National Geographic', 'Vogue', 'Rolling Stone', 'Time', 'Newsweek', 'Sports Illustrated', 'Popular Science', 'Wired', 'Forbes']  # Add more options up to 50\n",
    "\n",
    "def generate_art_prompt():\n",
    "    framing = random.choice(framing_options)\n",
    "    film_type = random.choice(film_type_options)\n",
    "    studio_context = random.choice(studio_context_options)\n",
    "    subject = random.choice(subject_options)\n",
    "    lighting_prompt = random.choice(lighting_prompt_options)\n",
    "    year = random.choice(year_options)\n",
    "    usage_content = random.choice(usage_content_options)\n",
    "\n",
    "    prompt = f\"{framing}, {film_type}, {studio_context}, {subject}, {lighting_prompt}, {year}, {usage_content}\"\n",
    "    return prompt\n",
    "\n",
    "art_prompt = generate_art_prompt()\n",
    "print(art_prompt)\n"
   ]
  },
  {
   "cell_type": "code",
   "execution_count": 4,
   "metadata": {},
   "outputs": [
    {
     "name": "stdout",
     "output_type": "stream",
     "text": [
      "Image saved to: c:\\Users\\trent\\OneDrive\\Documents\\GitHub\\sandbox\\birdsoftheworld\\images\\2023-03-20_21-56-40.png\n",
      "Image saved to: c:\\Users\\trent\\OneDrive\\Documents\\GitHub\\sandbox\\birdsoftheworld\\images\\2023-03-20_21-56-46.png\n",
      "Image saved to: c:\\Users\\trent\\OneDrive\\Documents\\GitHub\\sandbox\\birdsoftheworld\\images\\2023-03-20_21-56-53.png\n",
      "Image saved to: c:\\Users\\trent\\OneDrive\\Documents\\GitHub\\sandbox\\birdsoftheworld\\images\\2023-03-20_21-57-00.png\n",
      "Image saved to: c:\\Users\\trent\\OneDrive\\Documents\\GitHub\\sandbox\\birdsoftheworld\\images\\2023-03-20_21-57-07.png\n",
      "Image saved to: c:\\Users\\trent\\OneDrive\\Documents\\GitHub\\sandbox\\birdsoftheworld\\images\\2023-03-20_21-57-14.png\n",
      "Image saved to: c:\\Users\\trent\\OneDrive\\Documents\\GitHub\\sandbox\\birdsoftheworld\\images\\2023-03-20_21-57-21.png\n",
      "Image saved to: c:\\Users\\trent\\OneDrive\\Documents\\GitHub\\sandbox\\birdsoftheworld\\images\\2023-03-20_21-57-42.png\n",
      "Image saved to: c:\\Users\\trent\\OneDrive\\Documents\\GitHub\\sandbox\\birdsoftheworld\\images\\2023-03-20_21-57-50.png\n",
      "Image saved to: c:\\Users\\trent\\OneDrive\\Documents\\GitHub\\sandbox\\birdsoftheworld\\images\\2023-03-20_21-57-58.png\n"
     ]
    }
   ],
   "source": [
    "import openai\n",
    "import requests\n",
    "from pathlib import Path\n",
    "from api_key import api_key\n",
    "import datetime\n",
    "\n",
    "prompts = [ 'Misty mountain landscape, color, fine art, cherry blossoms, soft front lighting, 2023, National Geographic',    \n",
    "           'Golden sunset over the ocean, color, fine art, sailboats, dramatic backlighting, 2023, Life Magazine',    \n",
    "           'Dramatic stormy sky, black & white, fine art, ancient castle, hard side lighting, 1800, Time',    \n",
    "           'Aurora borealis, color, landscape photography, polar bears, natural light, 2023, National Geographic',    \n",
    "           'Intimate wildlife portrait, color, studio portrait, lion, close-up, diffused light, 2023, Life Magazine',    \n",
    "           'Dreamy underwater scene, color, fine art, coral reef, mixed lighting, 2023, National Geographic',    \n",
    "           'Starry night, color, landscape photography, milky way galaxy, natural light, 2023, Popular Science',    \n",
    "           'Magical forest, color, fine art, deer in sunlight, soft front lighting, 2023, National Geographic',    \n",
    "           'Dazzling city lights, color, architecture, futuristic cityscape, top lighting, 2050, Wired',    \n",
    "           'Whimsical garden, color, still life, butterflies and flowers, diffused light, 2023, Vogue']\n",
    "\n",
    "modifiers = 'beautiful composition, desktop wallpaper, wall art'\n",
    "\n",
    "\n",
    "prompts = ['''popular wall art for prints in a trendy living space, beautiful and compelling composition, 2023''']\n",
    "\n",
    "\n",
    "prompts *= 10\n",
    "\n",
    "# Set your OpenAI API key\n",
    "openai.api_key = api_key\n",
    "\n",
    "for PROMPT in prompts:\n",
    "\n",
    "    # Set prompt and output directory\n",
    "    PROMPT = PROMPT + ', ' + modifiers\n",
    "    OUTPUT_DIR = Path.cwd() / \"images\"\n",
    "    OUTPUT_DIR.mkdir(exist_ok=True)\n",
    "\n",
    "    # Call the DALL-E API\n",
    "    response = openai.Image.create(\n",
    "        prompt=PROMPT,\n",
    "        n=1,\n",
    "        size=\"1024x1024\",\n",
    "    )\n",
    "\n",
    "    # Get the URL of the generated image\n",
    "    image_url = response[\"data\"][0][\"url\"]\n",
    "\n",
    "    # Download the image\n",
    "    response = requests.get(image_url)\n",
    "    \n",
    "    # Get the current date and time as a timestamp\n",
    "    timestamp = datetime.datetime.now().strftime(\"%Y-%m-%d_%H-%M-%S\")\n",
    "\n",
    "    # Save the image locally\n",
    "    image_file = OUTPUT_DIR / f\"{timestamp}.png\"\n",
    "    with open(image_file, \"wb\") as f:\n",
    "        f.write(response.content)\n",
    "\n",
    "    print(f\"Image saved to: {image_file}\")"
   ]
  }
 ],
 "metadata": {
  "kernelspec": {
   "display_name": "Springboard",
   "language": "python",
   "name": "python3"
  },
  "language_info": {
   "codemirror_mode": {
    "name": "ipython",
    "version": 3
   },
   "file_extension": ".py",
   "mimetype": "text/x-python",
   "name": "python",
   "nbconvert_exporter": "python",
   "pygments_lexer": "ipython3",
   "version": "3.8.10"
  },
  "orig_nbformat": 4
 },
 "nbformat": 4,
 "nbformat_minor": 2
}
