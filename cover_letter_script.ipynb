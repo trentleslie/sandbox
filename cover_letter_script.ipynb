{
 "cells": [
  {
   "cell_type": "code",
   "execution_count": 1,
   "source": [
    "import pandas as pd\r\n",
    "from fpdf import FPDF\r\n",
    "from datetime import datetime"
   ],
   "outputs": [],
   "metadata": {}
  },
  {
   "cell_type": "code",
   "execution_count": 3,
   "source": [
    "df = pd.read_csv('applications_today.csv')\r\n",
    "\r\n",
    "for index, row in df.iterrows():\r\n",
    "    pdf = FPDF()\r\n",
    "    pdf.set_margins(22, 18, 22)\r\n",
    "    pdf.add_page()\r\n",
    "    pdf.set_font(\"Times\", size=12)\r\n",
    "    \r\n",
    "    if row.Category == 'bio':\r\n",
    "        letter = f\"{datetime.now().strftime('%B %d, %Y')}\\n\\nTrent Leslie\\n4202 Harris Rd SE\\nPort Orchard, WA 98366\\n\\n Dear Hiring Manager,\\n\\nThank you for the opportunity to apply for the {row.Role} position at {row.Employer}. After reviewing the job description, it is clear you are looking for a candidate who is not only experienced with the rigor of bioinformatic analytics, but also excited by novel challenges and open to an ever-changing environment. Given these requirements, I am certain I have the necessary skills to successfully perform the job adeptly and above expectations.\\n\\nIn my graduate research at University of Cincinnati, I conducted transcriptomic RNA-Seq analysis on the Linux-based Ohio Supercomputing Cluster using R, Python, and bash scripts. This research involved approximately 28,000 annotated genes and evaluation of differential gene expression between two morning glory populations. While the lack of bioinformatic opportunities in Cincinnati after graduation shifted my focus to the craft beer industry, I never lost touch with my passion for coding, biological experimental design, and process optimization.\\n\\nOver my past 7 years at MadTree Brewing Company in Cincinnati, I have developed, implemented, and audited dozens of brewing quality SOPs while using multiple tools to gain insight into the overwhelming amount of data produced by the brewing process. I implemented Python and SQL to build dashboards in manufacturing software, while also using Stat-Ease Design Expert to leverage design of experiments (DOE) in guiding brand recipe development and process optimization. Recently, I had the opportunity to implement extract-transform-load (ETL) on a project that involved extracting data from a real-time sensor database, transforming it to batch-based statistics, and loading it into a production database for further modeling and analysis. I believe all these skills and experiences make me a unique and highly qualified candidate for the {row.Role} at {row.Employer}.\\n\\nAfter reviewing my resume, I hope you will agree that I am the competent and competitive candidate you are looking for. On a personal note, I would be absolutely thrilled by the opportunity to work on bioinformatic problems again, and I would fully devote myself to tackling the challenges at hand. I look forward to elaborating on how my specific skills and abilities will benefit {row.Employer}. Please contact me at (419) 651-5914 or trentleslie@gmail.com to arrange for a convenient meeting time.\\n\\nThank you for your consideration, and I look forward to hearing from you soon.\\n\\nCheers,\\nTrent Leslie\\nPort Orchard, WA\"\r\n",
    "    if row.Category == 'anal':    \r\n",
    "        letter = f\"{datetime.now().strftime('%B %d, %Y')}\\n\\nTrent Leslie\\n4202 Harris Rd SE\\nPort Orchard, WA 98366\\n\\n Dear Hiring Manager,\\n\\nThank you for the opportunity to apply for the {row.Role} position at {row.Employer}. After reviewing the job description, it is clear you are looking for a candidate who is not only experienced with the rigor of data analytics, but also excited by novel challenges and open to an ever-changing environment. Given these requirements, I am certain I have the necessary skills to successfully perform the job adeptly and above expectations.\\n\\nOver my past 7 years at MadTree Brewing Company in Cincinnati, I have used multiple tools to gain insight into the overwhelming amount of data produced by the brewing process. I have remained tool agnostic in the process, implementing R to produce process control charts, Python to scrape data from Google Sheets spreadsheets, SQL to build dashboards in Inductive Automation Ignition, and Stat-Ease Design Expert to implement design of experiments (DOE) in guiding brand recipe development and process optimization. Recently, I had the opportunity to implement extract-transform-load (ETL) on a project that involved extracting data from a real-time sensor database, transforming it to batch-based statistics, and loading it into a production database for further modeling and analysis. My experience in grad school taught me the value of grit and determination in following through with scientific research to publication, and to this day, I continue to provide industry leadership through data-oriented webinars and presentations with organizations in the craft brewing industry. I believe all these skills and experiences make me a unique and highly qualified candidate for the {row.Role} at {row.Employer}.\\n\\nAfter reviewing my resume, I hope you will agree that I am the competent and competitive candidate you are looking for. I look forward to elaborating on how my specific skills and abilities will benefit {row.Employer}. Please contact me at (419) 651-5914 or trentleslie@gmail.com to arrange for a convenient meeting time.\\n\\nThank you for your consideration, and I look forward to hearing from you soon.\\n\\nCheers,\\nTrent Leslie\\nPort Orchard, WA\"\r\n",
    "\r\n",
    "    pdf.multi_cell(0, 5, txt=letter, align='L')\r\n",
    "    pdf.output(f\"Cover Letter - Trent Leslie - {datetime.now().strftime('%Y%m%d')} - {row.Employer}.pdf\")"
   ],
   "outputs": [],
   "metadata": {}
  },
  {
   "cell_type": "code",
   "execution_count": 4,
   "source": [
    "df['Date'] = datetime.now().strftime(\"%m/%d/%Y\")\r\n",
    "df = df[['Date','Category','Role','Employer']]\r\n",
    "df.to_csv('applications_all.csv', mode='a', header=False, index=False)"
   ],
   "outputs": [],
   "metadata": {}
  },
  {
   "cell_type": "code",
   "execution_count": null,
   "source": [],
   "outputs": [],
   "metadata": {}
  }
 ],
 "metadata": {
  "orig_nbformat": 4,
  "language_info": {
   "name": "python",
   "version": "3.8.10",
   "mimetype": "text/x-python",
   "codemirror_mode": {
    "name": "ipython",
    "version": 3
   },
   "pygments_lexer": "ipython3",
   "nbconvert_exporter": "python",
   "file_extension": ".py"
  },
  "kernelspec": {
   "name": "python3",
   "display_name": "Python 3.8.10 64-bit ('Springboard': conda)"
  },
  "interpreter": {
   "hash": "5aba52893a57ee58c7bf441bea12636afd893df5c52c2aeb773e3c18226953a5"
  }
 },
 "nbformat": 4,
 "nbformat_minor": 2
}